{
  "nbformat": 4,
  "nbformat_minor": 0,
  "metadata": {
    "colab": {
      "provenance": [],
      "authorship_tag": "ABX9TyNYwYehZZ4MWY9Gh77ptqRb",
      "include_colab_link": true
    },
    "kernelspec": {
      "name": "python3",
      "display_name": "Python 3"
    },
    "language_info": {
      "name": "python"
    }
  },
  "cells": [
    {
      "cell_type": "markdown",
      "metadata": {
        "id": "view-in-github",
        "colab_type": "text"
      },
      "source": [
        "<a href=\"https://colab.research.google.com/github/EkaterinaBogokina/Python_HW_Final/blob/main/Task44.ipynb\" target=\"_parent\"><img src=\"https://colab.research.google.com/assets/colab-badge.svg\" alt=\"Open In Colab\"/></a>"
      ]
    },
    {
      "cell_type": "code",
      "execution_count": null,
      "metadata": {
        "id": "3rpt7qTDmcXc"
      },
      "outputs": [],
      "source": [
        "import random\n",
        "import pandas as pd\n",
        "import numpy as np\n",
        "\n",
        "lst = ['robot'] * 10\n",
        "lst += ['human'] * 10\n",
        "random.shuffle(lst)\n",
        "data = pd.DataFrame({'whoAmI':lst})\n",
        "data.head() \n",
        "hot_data = data.copy()\n",
        "hot_data['Robot'] = np.where(hot_data['whoAmI']=='robot', 1, 0)\n",
        "hot_data['Human'] = np.where(hot_data['whoAmI']=='human', 1, 0)\n",
        "hot_data.drop(columns=['whoAmI'],axis=1,inplace=True)\n",
        "hot_data.head()"
      ]
    }
  ]
}